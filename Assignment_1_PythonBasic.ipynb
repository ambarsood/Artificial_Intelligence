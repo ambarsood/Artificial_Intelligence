{
 "cells": [
  {
   "cell_type": "markdown",
   "id": "e4ae5ea3",
   "metadata": {},
   "source": [
    "UCS411 ASSIGNMENT - 1"
   ]
  },
  {
   "cell_type": "markdown",
   "id": "50d67791",
   "metadata": {},
   "source": [
    "NAME = AMBAR SOOD\n",
    "\n",
    "ROLL NO. = 102006109\n",
    "\n",
    "EMAIL = asood3_be20@thapar.edu "
   ]
  },
  {
   "cell_type": "markdown",
   "id": "ff570be8",
   "metadata": {},
   "source": [
    "1.\tWrite a program to demonstrate different number datatypes and arithmetic operations (addition, subtraction, multiplication, division, and exponent) in python"
   ]
  },
  {
   "cell_type": "code",
   "execution_count": 1,
   "id": "b6d59b7d",
   "metadata": {},
   "outputs": [
    {
     "name": "stdout",
     "output_type": "stream",
     "text": [
      "7\n",
      "3\n",
      "10\n",
      "2.5\n",
      "25\n"
     ]
    }
   ],
   "source": [
    "#102006109\n",
    "a=5\n",
    "b=2\n",
    "print(a+b)  #addition\n",
    "print(a-b)  #subtraction\n",
    "print(a*b)  #multiplication\n",
    "print(a/b)  #division\n",
    "print(a**b) #exponent"
   ]
  },
  {
   "cell_type": "markdown",
   "id": "a82d7580",
   "metadata": {},
   "source": [
    "2.\tWrite a program to implement all the usual operators for Boolean logic in python"
   ]
  },
  {
   "cell_type": "code",
   "execution_count": 2,
   "id": "e65178e5",
   "metadata": {},
   "outputs": [
    {
     "name": "stdout",
     "output_type": "stream",
     "text": [
      "False\n",
      "True\n",
      "False\n",
      "True\n"
     ]
    }
   ],
   "source": [
    "#102006109\n",
    "a=True\n",
    "b=False\n",
    "print(not a)\n",
    "print(not b)\n",
    "print(a and b)\n",
    "print(a or b)"
   ]
  },
  {
   "cell_type": "markdown",
   "id": "5ce505b1",
   "metadata": {},
   "source": [
    "3.\tWrite a program to perform certain operations on strings (print a string, concatenation of two strings, capitalize a string, convert a string to uppercase, right-justify, centre a string, replace all instances of one substring with another, accessing substring from a given string)"
   ]
  },
  {
   "cell_type": "code",
   "execution_count": 3,
   "id": "7c073a63",
   "metadata": {},
   "outputs": [
    {
     "name": "stdout",
     "output_type": "stream",
     "text": [
      "hello\n",
      "hello world\n",
      "Hello\n",
      "HELLO\n",
      "**hello\n",
      "**hello**\n",
      "Hello world\n",
      "hell\n"
     ]
    }
   ],
   "source": [
    "#102006109\n",
    "str1='hello'\n",
    "str2=' world'\n",
    "str3='hello world'\n",
    "print(str1)                           #print a string\n",
    "print(str1 + str2)                    #concatenation of 2 strings\n",
    "print(str1.capitalize())              #capitalize a string\n",
    "print(str1.upper())                   #uppercase a string\n",
    "print(str1.rjust(7,'*'))              #right justify a string\n",
    "print(str1.center(9,'*'))             #cenre a string\n",
    "print(str3.replace('hello','Hello'))  #replace all instances of substring\n",
    "print(str1[0:4])                      #accesing substring"
   ]
  },
  {
   "cell_type": "markdown",
   "id": "9a0c48eb",
   "metadata": {},
   "source": [
    "4.\tWrite a program to create a list with different data types, access elements of lists, slicing, append and remove elements from list "
   ]
  },
  {
   "cell_type": "code",
   "execution_count": 7,
   "id": "0ff13e32",
   "metadata": {},
   "outputs": [
    {
     "name": "stdout",
     "output_type": "stream",
     "text": [
      "[20, 'Virat Kohli', 6.23]\n",
      "Virat Kohli\n",
      "[20, 'Virat Kohli']\n",
      "[20, 'Virat Kohli', 6.23, '70 100s']\n",
      "[20, 'Virat Kohli', '70 100s']\n"
     ]
    }
   ],
   "source": [
    "#102006109\n",
    "king=[20, 'Virat Kohli', 6.23] #list with diff data types\n",
    "print(king)                    \n",
    "print(king[1])                 #access element of list\n",
    "print(king[slice(0,2)])        #slicing\n",
    "king.append('70 100s')         #append\n",
    "print(king)\n",
    "king.remove(6.23)              #remove element\n",
    "print(king)"
   ]
  },
  {
   "cell_type": "markdown",
   "id": "7bb53ddc",
   "metadata": {},
   "source": [
    "5.\tWrite a program to create a dictionary with different data types, access elements of dictionary, add and remove elements from dictionary "
   ]
  },
  {
   "cell_type": "code",
   "execution_count": 8,
   "id": "4d0f7a0e",
   "metadata": {},
   "outputs": [
    {
     "name": "stdout",
     "output_type": "stream",
     "text": [
      "{1: 'abcd', 2: 11, 3: 0.9}\n",
      "abcd\n",
      "{1: 'abcd', 2: 11, 3: 0.9, 4: 'xyz'}\n",
      "{1: 'abcd', 3: 0.9, 4: 'xyz'}\n"
     ]
    }
   ],
   "source": [
    "#102006109\n",
    "dict={1:'abcd', 2: 11, 3: 0.9} #dictionary with diff data types\n",
    "print(dict)                \n",
    "print(dict[1])                 #access element of dictionary\n",
    "dict[4]='xyz'                  #add alement\n",
    "print(dict)\n",
    "del dict[2]                    #remove element\n",
    "print(dict)"
   ]
  },
  {
   "cell_type": "markdown",
   "id": "66fb8b95",
   "metadata": {},
   "source": [
    "6.\tWrite a program to create a set with different data types, check for an element, add and remove elements from the set "
   ]
  },
  {
   "cell_type": "code",
   "execution_count": 9,
   "id": "3d63f3fd",
   "metadata": {
    "scrolled": true
   },
   "outputs": [
    {
     "name": "stdout",
     "output_type": "stream",
     "text": [
      "{10, 5.5, 'abcd'}\n",
      "yes, abcd is present in set\n",
      "{10, 'xyz', 5.5, 'abcd'}\n",
      "{10, 'xyz', 'abcd'}\n"
     ]
    }
   ],
   "source": [
    "#102006109\n",
    "set={10, 'abcd', 5.5}                       #set with diff data types\n",
    "print(set)\n",
    "if 'abcd' in set:                           #check for element\n",
    "    print('yes, abcd is present in set')\n",
    "set.add('xyz')                              #add element\n",
    "print(set)\n",
    "set.remove(5.5)                             #remove element\n",
    "print(set)"
   ]
  },
  {
   "cell_type": "markdown",
   "id": "63010fdb",
   "metadata": {},
   "source": [
    "7.\tWrite a program to create a tuple with different data types, create a dictionary with tuple keys"
   ]
  },
  {
   "cell_type": "code",
   "execution_count": 10,
   "id": "7181c32c",
   "metadata": {},
   "outputs": [
    {
     "name": "stdout",
     "output_type": "stream",
     "text": [
      "('abcd', 10, 1.5)\n",
      "{('abcd', 'xyz'): 'letters', (123, 456): 'numbers'}\n"
     ]
    }
   ],
   "source": [
    "#102006109\n",
    "tuple=('abcd', 10, 1.5)                                      #tuple with different data types\n",
    "print(tuple)\n",
    "dict_tuple={('abcd', 'xyz'):'letters', (123, 456):'numbers'} #dictionary with tuple keys\n",
    "print(dict_tuple)"
   ]
  },
  {
   "cell_type": "markdown",
   "id": "a72a311d",
   "metadata": {},
   "source": [
    "8.\tWrite a program to print the sign of number"
   ]
  },
  {
   "cell_type": "code",
   "execution_count": 12,
   "id": "7ab8f2ac",
   "metadata": {},
   "outputs": [
    {
     "name": "stdout",
     "output_type": "stream",
     "text": [
      "10.0\n",
      "It is a positive number\n"
     ]
    }
   ],
   "source": [
    "#102006109\n",
    "num=input('Enter a number')\n",
    "num=float(num)\n",
    "print(num)\n",
    "if num>0:\n",
    "    print('It is a positive number')\n",
    "elif num==0:\n",
    "    print('It is zero')\n",
    "else:\n",
    "    print('It is negative number')"
   ]
  },
  {
   "cell_type": "markdown",
   "id": "4a683056",
   "metadata": {},
   "source": [
    "9.\tUsing a conditional, write the relu function defined as follows\n",
    "\n",
    " RELU \n",
    " \n",
    " = X IF X>=0\n",
    " \n",
    " = 0 OTHERWISE\n",
    "\n",
    "      "
   ]
  },
  {
   "cell_type": "code",
   "execution_count": 14,
   "id": "9a515d70",
   "metadata": {},
   "outputs": [
    {
     "name": "stdout",
     "output_type": "stream",
     "text": [
      "Relu=  10.0\n"
     ]
    }
   ],
   "source": [
    "#102006109\n",
    "x=float(input('Enter a value '))\n",
    "if x<0:\n",
    "    relu=0\n",
    "    print('Relu= ',relu)\n",
    "else:\n",
    "    relu=x\n",
    "    print('Relu= ',relu)"
   ]
  },
  {
   "cell_type": "markdown",
   "id": "3cd1587b",
   "metadata": {},
   "source": [
    "10.\t\n",
    "(a) Write a python program to print prim numbers less than 20\n",
    "\n",
    "(b) Write a python program to find factorial of a number using recursion\n",
    "\n",
    "(c) Write a program that inputs a text file. The program should print all the unique words in the file in alphabetical order.\n"
   ]
  },
  {
   "cell_type": "code",
   "execution_count": 15,
   "id": "550f3c7e",
   "metadata": {},
   "outputs": [
    {
     "name": "stdout",
     "output_type": "stream",
     "text": [
      "[2, 3, 5, 7, 11, 13, 17, 19]\n"
     ]
    }
   ],
   "source": [
    "#102006109\n",
    "#(a)\n",
    "# print('Prime numbers less than 20 are: ')\n",
    "# ulmt=20\n",
    "# for num in range(ulmt+1):\n",
    "#     if num > 1:\n",
    "#         for i in range(2,num):\n",
    "#             if (num % i)==0:\n",
    "#                 break\n",
    "#         else:\n",
    "#                 print(num)\n",
    "\n",
    "\n",
    "\n",
    "primes = []\n",
    "for i in range(2, 21):\n",
    "    for j in range(2, i):\n",
    "        if i%j == 0:\n",
    "            break\n",
    "    else:\n",
    "        primes.append(i)\n",
    "print(primes)"
   ]
  },
  {
   "cell_type": "code",
   "execution_count": 17,
   "id": "ce78c530",
   "metadata": {},
   "outputs": [
    {
     "name": "stdout",
     "output_type": "stream",
     "text": [
      "Factorial of 6 is 720\n"
     ]
    }
   ],
   "source": [
    "#102006109\n",
    "#(b)\n",
    "\n",
    "def fact(n):\n",
    "    if n == 1:\n",
    "        return n\n",
    "    else:\n",
    "        return n*fact(n-1)\n",
    "num = int(input('Enter the number '))\n",
    "if num<0:\n",
    "    print('Factorial doesnt exist')\n",
    "elif num==0:\n",
    "    print('Factorial of 0 is 1')\n",
    "else:\n",
    "    print('Factorial of',num,\"is\",fact(num))"
   ]
  },
  {
   "cell_type": "code",
   "execution_count": 21,
   "id": "d1fc4e22",
   "metadata": {},
   "outputs": [
    {
     "name": "stdout",
     "output_type": "stream",
     "text": [
      "The unique words in alphabetical order are:\n",
      "you\n"
     ]
    }
   ],
   "source": [
    "#102006109\n",
    "#(c)\n",
    "fname = input(\"Enter file name: \")\n",
    "fh = open(fname)\n",
    "lst = list()\n",
    "words = []\n",
    "for line in fh:\n",
    "    words += line.split()\n",
    "words.sort()\n",
    "print(\"The unique words in alphabetical order are:\")\n",
    "for word in words:\n",
    "    if word in lst:\n",
    "        continue\n",
    "    else:\n",
    "        lst.append(word)\n",
    "print(word)"
   ]
  },
  {
   "cell_type": "markdown",
   "id": "02b255c5",
   "metadata": {},
   "source": [
    "11.\tWrite a python program to square each element of a list using list comprehension, and of a dictionary using dictionary comprehension"
   ]
  },
  {
   "cell_type": "code",
   "execution_count": 24,
   "id": "197db5cf",
   "metadata": {},
   "outputs": [
    {
     "name": "stdout",
     "output_type": "stream",
     "text": [
      "[1, 4, 9, 16, 25, 36, 49, 64, 81]\n",
      "{1, 121, 225, 289, 9, 169, 81, 49, 25}\n"
     ]
    }
   ],
   "source": [
    "#102006109\n",
    "list=[1,2,3,4,5,6,7,8,9] \n",
    "sq_list=[x**2 for x in list] \n",
    "print(sq_list) \n",
    " \n",
    "dict={1:1,2:3,3:5,4:7,5:9,6:11,7:13,8:15,9:17} \n",
    "sq_dict = {num**2 for num in dict.values()} \n",
    "print(sq_dict)"
   ]
  }
 ],
 "metadata": {
  "kernelspec": {
   "display_name": "Python 3.9.12 ('base')",
   "language": "python",
   "name": "python3"
  },
  "language_info": {
   "codemirror_mode": {
    "name": "ipython",
    "version": 3
   },
   "file_extension": ".py",
   "mimetype": "text/x-python",
   "name": "python",
   "nbconvert_exporter": "python",
   "pygments_lexer": "ipython3",
   "version": "3.9.12"
  },
  "vscode": {
   "interpreter": {
    "hash": "34900840165251827f1f58b12be4cf69218438b65743dc95159f4f3d75b3aaee"
   }
  }
 },
 "nbformat": 4,
 "nbformat_minor": 5
}
